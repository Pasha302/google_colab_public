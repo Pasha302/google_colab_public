{
  "nbformat": 4,
  "nbformat_minor": 0,
  "metadata": {
    "colab": {
      "name": "transfer_learning.ipynb",
      "provenance": [],
      "authorship_tag": "ABX9TyPrWCu0ivLmQeBDXKx8kvj9",
      "include_colab_link": true
    },
    "kernelspec": {
      "name": "python3",
      "display_name": "Python 3"
    }
  },
  "cells": [
    {
      "cell_type": "markdown",
      "metadata": {
        "id": "view-in-github",
        "colab_type": "text"
      },
      "source": [
        "<a href=\"https://colab.research.google.com/github/Pasha302/google_colab_public/blob/master/transfer_learning.ipynb\" target=\"_parent\"><img src=\"https://colab.research.google.com/assets/colab-badge.svg\" alt=\"Open In Colab\"/></a>"
      ]
    },
    {
      "cell_type": "code",
      "metadata": {
        "id": "eFkzEOUJelM6",
        "colab_type": "code",
        "colab": {}
      },
      "source": [
        "import os\n",
        "import tensorflow as tf\n",
        "from tensorflow.keras import layers\n",
        "from tensorflow.keras import Model\n"
      ],
      "execution_count": null,
      "outputs": []
    },
    {
      "cell_type": "code",
      "metadata": {
        "id": "IJIyWG9TfOnn",
        "colab_type": "code",
        "colab": {}
      },
      "source": [
        "!wget --no-check-certificate \\\n",
        "    https://storage.googleapis.com/mledu-datasets/inception_v3_weights_tf_dim_ordering_tf_kernels_notop.h5 \\\n",
        "    -O /tmp/inception_v3_weights_tf_dim_ordering_tf_kernels_notop.h5"
      ],
      "execution_count": null,
      "outputs": []
    },
    {
      "cell_type": "code",
      "metadata": {
        "id": "7pZxq3w6fRJT",
        "colab_type": "code",
        "colab": {}
      },
      "source": [
        "from tensorflow.keras.applications.inception_v3 import InceptionV3\n",
        "local_weights_file ='/tmp/inception_v3_weights_tf_dim_ordering_tf_kernels_notop.h5'\n",
        "\n",
        "pre_trained_model = InceptionV3(input_shape=(150,150,3),\n",
        "                                include_top = False,\n",
        "                                weights= None)\n",
        "pre_trained_model.load_weights(local_weights_file)\n",
        "\n",
        "for layer in pre_trained_model.layers:\n",
        "  layer.trainable = False\n",
        "\n",
        "last_layer = pre_trained_model.get_layer('mixed7')\n",
        "print('last layer output shape: ',last_layer.output_shape)\n",
        "last_output = last_layer.output\n"
      ],
      "execution_count": null,
      "outputs": []
    },
    {
      "cell_type": "code",
      "metadata": {
        "id": "FENDQArNlFSq",
        "colab_type": "code",
        "colab": {}
      },
      "source": [
        "from tensorflow.keras.optimizers import RMSprop\n",
        "x = layers.Flatten()(last_output)\n",
        "x= layers.Dense(1024, activation ='relu')(x)\n",
        "x = layers.Dense(1,activation = 'sigmoid')(x)\n",
        "\n",
        "\n",
        "model = Model(pre_trained_model.input,x)\n",
        "model.compile(optimizer = RMSprop(lr=0.001),\n",
        "              loss = 'binary_crossentropy',\n",
        "              metrics = ['accuracy'])\n",
        "\n",
        "model.summary()"
      ],
      "execution_count": null,
      "outputs": []
    },
    {
      "cell_type": "code",
      "metadata": {
        "id": "N3LO_Sb9l7gi",
        "colab_type": "code",
        "colab": {
          "base_uri": "https://localhost:8080/",
          "height": 224
        },
        "outputId": "f0970287-7704-405f-da6e-da06853ca84d"
      },
      "source": [
        "!wget --no-check-certificate \\\n",
        "        https://storage.googleapis.com/mledu-datasets/cats_and_dogs_filtered.zip \\\n",
        "       -O /tmp/cats_and_dogs_filtered.zip"
      ],
      "execution_count": null,
      "outputs": [
        {
          "output_type": "stream",
          "text": [
            "--2020-06-28 01:46:16--  https://storage.googleapis.com/mledu-datasets/cats_and_dogs_filtered.zip\n",
            "Resolving storage.googleapis.com (storage.googleapis.com)... 74.125.203.128, 74.125.204.128, 64.233.188.128, ...\n",
            "Connecting to storage.googleapis.com (storage.googleapis.com)|74.125.203.128|:443... connected.\n",
            "HTTP request sent, awaiting response... 200 OK\n",
            "Length: 68606236 (65M) [application/zip]\n",
            "Saving to: ‘/tmp/cats_and_dogs_filtered.zip’\n",
            "\n",
            "/tmp/cats_and_dogs_ 100%[===================>]  65.43M   113MB/s    in 0.6s    \n",
            "\n",
            "2020-06-28 01:46:17 (113 MB/s) - ‘/tmp/cats_and_dogs_filtered.zip’ saved [68606236/68606236]\n",
            "\n"
          ],
          "name": "stdout"
        }
      ]
    },
    {
      "cell_type": "code",
      "metadata": {
        "id": "p-ThQbbUmoqV",
        "colab_type": "code",
        "colab": {}
      },
      "source": [
        "from tensorflow.keras.preprocessing.image import ImageDataGenerator\n",
        "import os\n",
        "import zipfile\n",
        "\n",
        "local_zip = '//tmp/cats_and_dogs_filtered.zip'\n",
        "zip_ref= zipfile.ZipFile(local_zip,'r')\n",
        "\n",
        "zip_ref.extractall('/tmp')\n",
        "zip_ref.close()\n",
        "\n",
        "base_dir= '/tmp/cats_and_dogs_filtered'\n",
        "train_dir = os.path.join(base_dir,\"train\")\n",
        "validation_dir = os.path.join(base_dir,'validation')\n",
        "train_cats_dir = os.path.join(train_dir,'cats')\n",
        " # Directory with our training cat pictures\n",
        "train_dogs_dir = os.path.join(train_dir, 'dogs') # Directory with our training dog pictures\n",
        "validation_cats_dir = os.path.join(validation_dir, 'cats') # Directory with our validation cat pictures\n",
        "validation_dogs_dir = os.path.join(validation_dir, 'dogs')# "
      ],
      "execution_count": null,
      "outputs": []
    },
    {
      "cell_type": "code",
      "metadata": {
        "id": "ptA6oCz-nlD3",
        "colab_type": "code",
        "colab": {
          "base_uri": "https://localhost:8080/",
          "height": 731
        },
        "outputId": "8b54a2b1-4df2-4ec7-f1cc-003dbcb655a3"
      },
      "source": [
        "train_datagen= ImageDataGenerator(rescale =1./255,\n",
        "                                  rotation_range = 40,\n",
        "                                  width_shift_range =0.2,\n",
        "                                  height_shift_range = 0.2,\n",
        "                                  shear_range =0.2,\n",
        "                                  zoom_range =0.2,\n",
        "                                  horizontal_flip =True)\n",
        "\n",
        "validation_datagen= ImageDataGenerator(rescale=1./255)\n",
        "train_generator = train_datagen.flow_from_directory(train_dir,\n",
        "                                                    batch_size =20,\n",
        "                                                    class_mode = 'binary',\n",
        "                                                    target_size =(150,150))\n",
        "validation_generator = validation_datagen.flow_from_directory(validation_dir,\n",
        "                                                              batch_size =20,\n",
        "                                                              class_mode='binary',\n",
        "                                                              target_size=(150,150))\n",
        "history = model.fit(train_generator,\n",
        "                    validation_data = validation_generator,\n",
        "                    steps_per_epoch =100,\n",
        "                    epochs=20,\n",
        "                    validation_steps=20,\n",
        "                    verbose =2)"
      ],
      "execution_count": null,
      "outputs": [
        {
          "output_type": "stream",
          "text": [
            "Found 2000 images belonging to 2 classes.\n",
            "Found 1000 images belonging to 2 classes.\n",
            "Epoch 1/20\n",
            "100/100 - 127s - loss: 1.2980 - accuracy: 0.8430 - val_loss: 0.1939 - val_accuracy: 0.9425\n",
            "Epoch 2/20\n",
            "100/100 - 127s - loss: 0.3713 - accuracy: 0.8930 - val_loss: 0.6219 - val_accuracy: 0.8375\n",
            "Epoch 3/20\n",
            "100/100 - 126s - loss: 0.2837 - accuracy: 0.9070 - val_loss: 0.2616 - val_accuracy: 0.9225\n",
            "Epoch 4/20\n",
            "100/100 - 129s - loss: 0.2940 - accuracy: 0.9120 - val_loss: 0.0988 - val_accuracy: 0.9675\n",
            "Epoch 5/20\n",
            "100/100 - 126s - loss: 0.2693 - accuracy: 0.9155 - val_loss: 0.3741 - val_accuracy: 0.9175\n",
            "Epoch 6/20\n",
            "100/100 - 126s - loss: 0.2185 - accuracy: 0.9270 - val_loss: 0.2026 - val_accuracy: 0.9550\n",
            "Epoch 7/20\n",
            "100/100 - 127s - loss: 0.2007 - accuracy: 0.9395 - val_loss: 0.1356 - val_accuracy: 0.9675\n",
            "Epoch 8/20\n",
            "100/100 - 131s - loss: 0.2540 - accuracy: 0.9195 - val_loss: 0.2108 - val_accuracy: 0.9450\n",
            "Epoch 9/20\n",
            "100/100 - 127s - loss: 0.2175 - accuracy: 0.9330 - val_loss: 0.1512 - val_accuracy: 0.9575\n",
            "Epoch 10/20\n",
            "100/100 - 127s - loss: 0.1997 - accuracy: 0.9340 - val_loss: 0.0836 - val_accuracy: 0.9750\n",
            "Epoch 11/20\n",
            "100/100 - 126s - loss: 0.1812 - accuracy: 0.9360 - val_loss: 0.2192 - val_accuracy: 0.9475\n",
            "Epoch 12/20\n",
            "100/100 - 126s - loss: 0.1727 - accuracy: 0.9400 - val_loss: 0.1649 - val_accuracy: 0.9575\n",
            "Epoch 13/20\n",
            "100/100 - 130s - loss: 0.1752 - accuracy: 0.9425 - val_loss: 0.1731 - val_accuracy: 0.9550\n",
            "Epoch 14/20\n",
            "100/100 - 126s - loss: 0.1688 - accuracy: 0.9460 - val_loss: 0.1438 - val_accuracy: 0.9725\n",
            "Epoch 15/20\n",
            "100/100 - 126s - loss: 0.1656 - accuracy: 0.9455 - val_loss: 0.0986 - val_accuracy: 0.9700\n",
            "Epoch 16/20\n",
            "100/100 - 126s - loss: 0.1611 - accuracy: 0.9470 - val_loss: 0.1151 - val_accuracy: 0.9675\n",
            "Epoch 17/20\n",
            "100/100 - 126s - loss: 0.1702 - accuracy: 0.9460 - val_loss: 0.1374 - val_accuracy: 0.9700\n",
            "Epoch 18/20\n",
            "100/100 - 129s - loss: 0.1413 - accuracy: 0.9530 - val_loss: 0.1397 - val_accuracy: 0.9625\n",
            "Epoch 19/20\n",
            "100/100 - 126s - loss: 0.1494 - accuracy: 0.9520 - val_loss: 0.1314 - val_accuracy: 0.9700\n",
            "Epoch 20/20\n",
            "100/100 - 126s - loss: 0.1463 - accuracy: 0.9535 - val_loss: 0.1036 - val_accuracy: 0.9700\n"
          ],
          "name": "stdout"
        }
      ]
    }
  ]
}